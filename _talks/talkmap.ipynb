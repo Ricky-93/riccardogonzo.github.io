{
 "cells": [
  {
   "cell_type": "markdown",
   "metadata": {},
   "source": [
    "# Leaflet cluster map of talk locations\n",
    "\n",
    "Run this from the _talks/ directory, which contains .md files of all your talks. This scrapes the location YAML field from each .md file, geolocates it with geopy/Nominatim, and uses the getorg library to output data, HTML, and Javascript for a standalone cluster map."
   ]
  },
  {
   "cell_type": "code",
   "execution_count": 6,
   "metadata": {
    "collapsed": false,
    "jupyter": {
     "outputs_hidden": false
    }
   },
   "outputs": [],
   "source": [
    "import glob\n",
    "import getorg\n",
    "from geopy import Nominatim\n",
    "import folium"
   ]
  },
  {
   "cell_type": "code",
   "execution_count": 7,
   "metadata": {
    "collapsed": false,
    "jupyter": {
     "outputs_hidden": false
    }
   },
   "outputs": [],
   "source": [
    "g = glob.glob(\"*.md\")"
   ]
  },
  {
   "cell_type": "code",
   "execution_count": 8,
   "metadata": {},
   "outputs": [],
   "source": [
    "data_talks = []\n",
    "for file in g:\n",
    "    talk_dict = {}\n",
    "    with open(file, 'r') as f:\n",
    "        lines = f.read()\n",
    "        \n",
    "        if lines.find('location: \"') > 1:\n",
    "            loc_start = lines.find('location: \"') + 11\n",
    "            lines_trim = lines[loc_start:]\n",
    "            loc_end = lines_trim.find('\"')\n",
    "            location = lines_trim[:loc_end]\n",
    "\n",
    "            title_start = lines.find('title: \"') + 8 #look for title\n",
    "            title_trim = lines[title_start:]\n",
    "            title_end = title_trim.find('\"')\n",
    "            title = title_trim[:title_end]\n",
    "            \n",
    "            venue_start = lines.find('venue: \"') + 8 #look for venue\n",
    "            venue_trim = lines[venue_start:]\n",
    "            venue_end = venue_trim.find('\"')\n",
    "            venue_name = venue_trim[:venue_end]\n",
    "\n",
    "            period_start = lines.find('date: ') + 6 #look for period\n",
    "            period_trim = lines[period_start:]\n",
    "            period_end = period_trim.find('\\n')\n",
    "            period = period_trim[:period_end]\n",
    "\n",
    "            type_start = lines.find('type: \"') + 7 #look for type\n",
    "            type_trim = lines[type_start:]\n",
    "            type_end = type_trim.find('\\n')\n",
    "            type = type_trim[:type_end -1]\n",
    "\n",
    "            #get the name of the file\n",
    "            link = \"https://riccardogonzo.com/talks/\" + file[:-3]\n",
    "\n",
    "            talk_dict['title'] = title\n",
    "            talk_dict['location'] = location\n",
    "            talk_dict['venue'] = venue_name\n",
    "            talk_dict['date'] = period\n",
    "            talk_dict['type'] = type\n",
    "            talk_dict['link'] = link\n",
    "            \n",
    "            data_talks.append(talk_dict)"
   ]
  },
  {
   "cell_type": "code",
   "execution_count": 9,
   "metadata": {},
   "outputs": [],
   "source": [
    "geocoder = Nominatim(user_agent=\"gn_website\")\n",
    "\n",
    "from geopy.exc import GeocoderUnavailable, GeocoderTimedOut\n",
    "\n",
    "for talk in data_talks:\n",
    "    if talk['location'] == \"Online\":\n",
    "        talk['lat'] = None\n",
    "        talk['lon'] = None\n",
    "        continue\n",
    "    print(talk['location'])\n",
    "    try:\n",
    "        location = geocoder.geocode(talk['location'], timeout=10)\n",
    "        if location:\n",
    "            talk['lat'] = location.latitude\n",
    "            talk['lon'] = location.longitude\n",
    "        else:\n",
    "            talk['lat'] = None\n",
    "            talk['lon'] = None\n",
    "    except (GeocoderUnavailable, GeocoderTimedOut) as e:\n",
    "        print(f\"Geocoding failed for {talk['location']}: {e}\")\n",
    "        talk['lat'] = None\n",
    "        talk['lon'] = None"
   ]
  },
  {
   "cell_type": "code",
   "execution_count": 10,
   "metadata": {},
   "outputs": [
    {
     "ename": "IndexError",
     "evalue": "list index out of range",
     "output_type": "error",
     "traceback": [
      "\u001b[0;31m---------------------------------------------------------------------------\u001b[0m",
      "\u001b[0;31mIndexError\u001b[0m                                Traceback (most recent call last)",
      "Cell \u001b[0;32mIn[10], line 1\u001b[0m\n\u001b[0;32m----> 1\u001b[0m \u001b[43mdata_talks\u001b[49m\u001b[43m[\u001b[49m\u001b[38;5;241;43m8\u001b[39;49m\u001b[43m]\u001b[49m\n",
      "\u001b[0;31mIndexError\u001b[0m: list index out of range"
     ]
    }
   ],
   "source": [
    "data_talks[8]"
   ]
  },
  {
   "cell_type": "code",
   "execution_count": null,
   "metadata": {},
   "outputs": [],
   "source": [
    "data_talks[10]"
   ]
  },
  {
   "cell_type": "code",
   "execution_count": null,
   "metadata": {},
   "outputs": [],
   "source": [
    "def convert_date(date):\n",
    "    date = date.split('-')\n",
    "    month = date[1]\n",
    "    day = date[2]\n",
    "    year = date[0]\n",
    "    if month == '01':\n",
    "        month = 'January'\n",
    "    elif month == '02':\n",
    "        month = 'February'\n",
    "    elif month == '03':\n",
    "        month = 'March'\n",
    "    elif month == '04':\n",
    "        month = 'April'\n",
    "    elif month == '05':\n",
    "        month = 'May'\n",
    "    elif month == '06':\n",
    "        month = 'June'\n",
    "    elif month == '07':\n",
    "        month = 'July'\n",
    "    elif month == '08':\n",
    "        month = 'August'\n",
    "    elif month == '09':\n",
    "        month = 'September'\n",
    "    elif month == '10':\n",
    "        month = 'October'\n",
    "    elif month == '11':\n",
    "        month = 'November'\n",
    "    elif month == '12':\n",
    "        month = 'December'\n",
    "    \n",
    "    if day.endswith('1') and day != '11':\n",
    "        day += 'st'\n",
    "    elif day.endswith('2') and day != '12':\n",
    "        day += 'nd'\n",
    "    elif day.endswith('3') and day != '13':\n",
    "        day += 'rd'\n",
    "    else:\n",
    "        day += 'th'\n",
    "\n",
    "    # if days starts with 0, remove it\n",
    "    if day.startswith('0'):\n",
    "        day = day[1:]\n",
    "    \n",
    "    return month + ' ' + day + ', ' + year"
   ]
  },
  {
   "cell_type": "code",
   "execution_count": null,
   "metadata": {},
   "outputs": [],
   "source": [
    "for talk in data_talks:\n",
    "    talk['venue'] = talk['venue'].replace('CCS', 'Conference on Complex Systems')"
   ]
  },
  {
   "cell_type": "code",
   "execution_count": null,
   "metadata": {},
   "outputs": [],
   "source": [
    "# remove Online talks\n",
    "data_talks = [talk for talk in data_talks if talk['location'] != 'Online']"
   ]
  },
  {
   "cell_type": "code",
   "execution_count": null,
   "metadata": {},
   "outputs": [],
   "source": [
    "# merge the talks that took place in the same location\n",
    "talks_merged = []\n",
    "\n",
    "unique_locations = list(set([talk['location'] for talk in data_talks]))\n",
    "\n",
    "for location in unique_locations:\n",
    "    location_talks = [talk for talk in data_talks if talk['location'] == location]\n",
    "    if len(location_talks) == 1:\n",
    "        talk = location_talks[0]\n",
    "        text = '<p style=\"font-size:1.3em; font-family: Avenir\"><b>' + talk['venue'] + \"</b>, \"\n",
    "        text += talk[\"location\"]+\"<br /><i>\" + talk['title']\n",
    "        text += \"</i><br />\" + convert_date(talk['date']) + \" (\" + talk['type'].lower() + \")</p>\"\n",
    "        talks_merged.append({'text': text, 'lat': talk['lat'], 'lon': talk['lon'], 'type': talk['type'], 'type': location_talks[0]['type'], 'num': None})\n",
    "    else:\n",
    "        text = '<p style=\"font-size:1.3em; font-family: Avenir\">'\n",
    "\n",
    "        types = []\n",
    "        # sort location talks by date\n",
    "        location_talks = sorted(location_talks, key=lambda x: x['date'], reverse=True)\n",
    "        for talk in location_talks:\n",
    "            text += '<b>' + talk['venue'] + \"</b>, \"\n",
    "            text += talk[\"location\"]+\"<br /><i>\" + talk['title']\n",
    "            text += \"</i><br />\" + convert_date(talk['date']) + \" (\" + talk['type'].lower() + \")<br /><br />\"\n",
    "            \n",
    "            if talk['type'] not in types:\n",
    "                types.append(talk['type'])\n",
    "\n",
    "        if \"Invited talk\" in types:\n",
    "            type = \"Invited talk\"\n",
    "        elif \"Contributed talk\" in types:\n",
    "            type = \"Contributed talk\"\n",
    "        elif \"Contributed poster\" in types:\n",
    "            type = \"Contributed poster\"\n",
    "    \n",
    "        text += \"</p>\"\n",
    "        talks_merged.append({'text': text, 'lat': location_talks[0]['lat'], 'lon': location_talks[0]['lon'], 'type': type, 'num': len(location_talks)})"
   ]
  },
  {
   "cell_type": "code",
   "execution_count": null,
   "metadata": {},
   "outputs": [],
   "source": [
    "talks_merged"
   ]
  },
  {
   "cell_type": "code",
   "execution_count": null,
   "metadata": {
    "collapsed": false,
    "jupyter": {
     "outputs_hidden": false
    }
   },
   "outputs": [],
   "source": [
    "n = folium.Map(location=[40,40], tiles=\"cartodb positron\", zoom_start=3, z_index = 0)\n",
    "\n",
    "folium.map.CustomPane(\"Invited talk\", z_index=1000).add_to(n)\n",
    "folium.map.CustomPane(\"Contributed talk\", z_index=999).add_to(n)\n",
    "folium.map.CustomPane(\"Contributed poster\", z_index=998).add_to(n)\n",
    "\n",
    "folium.map.CustomPane(\"arrow\", z_index=450).add_to(n)\n",
    "# sort data talks in such a way that posters are at the beginning, contributed talks in the middle, and invited talks at the end\n",
    "\n",
    "talks_merged = sorted(talks_merged, key=lambda x: x['type'])\n",
    "\n",
    "for idx, talk in enumerate(talks_merged):\n",
    "    # iframe = folium.IFrame('<p style=\"font-family: Avenir\"><b>' + talk['venue'] + \"</b>, \"+talk[\"location\"]+\"<br /><i>\" + talk['title'] + \"</i><br />\" + convert_date(talk['date']) + \" (\" +\n",
    "    #                        talk['type'].lower() + \")</p>\", width=500, height=150)\n",
    "    #html = '<p style=\"font-size:1.3em; font-family: Avenir\"><b>' + talk['venue'] + \"</b>, \"+ talk[\"location\"]+\"<br /><i>\" + talk['title'] + \"</i><br />\" + convert_date(talk['date']) + \" (\" + talk['type'].lower() + \")</p>\"\n",
    "    \n",
    "    popup = folium.Popup(talk['text'], min_width=200, max_width=300, max_height=150, min_height=100)\n",
    "\n",
    "    if talk['type'] == 'Invited talk':\n",
    "        color = 'darkred'\n",
    "\n",
    "    elif talk['type'] == 'Contributed talk':\n",
    "        color = 'darkblue'\n",
    "\n",
    "    elif talk['type'] == 'Contributed poster':\n",
    "        color = 'darkblue'\n",
    "\n",
    "    folium.Marker(location = [talk['lat'], talk['lon']], popup=popup, marker_size = 100,\n",
    "                  icon=folium.Icon(color=color, prefix = \"fa\")).add_to(n)\n",
    "\n",
    "n"
   ]
  },
  {
   "cell_type": "code",
   "execution_count": null,
   "metadata": {},
   "outputs": [],
   "source": [
    "# get the minimum and maximum latitude and longitude\n",
    "min_lat = min([talk['lat'] for talk in data_talks if talk['lat'] is not None])\n",
    "max_lat = max([talk['lat'] for talk in data_talks if talk['lat'] is not None])\n",
    "\n",
    "min_lon = min([talk['lon'] for talk in data_talks if talk['lon'] is not None])\n",
    "max_lon = max([talk['lon'] for talk in data_talks if talk['lon'] is not None])\n",
    "\n",
    "n.fit_bounds([[min_lat, min_lon], [max_lat, max_lon]])"
   ]
  },
  {
   "cell_type": "code",
   "execution_count": null,
   "metadata": {
    "collapsed": false,
    "jupyter": {
     "outputs_hidden": false
    }
   },
   "outputs": [],
   "source": [
    "# save the map in html\n",
    "\n",
    "n.save('../talkmap/talks_map.html')"
   ]
  },
  {
   "cell_type": "code",
   "execution_count": null,
   "metadata": {},
   "outputs": [],
   "source": []
  }
 ],
 "metadata": {
  "anaconda-cloud": {},
  "kernelspec": {
   "display_name": "Python 3 (ipykernel)",
   "language": "python",
   "name": "python3"
  },
  "language_info": {
   "codemirror_mode": {
    "name": "ipython",
    "version": 3
   },
   "file_extension": ".py",
   "mimetype": "text/x-python",
   "name": "python",
   "nbconvert_exporter": "python",
   "pygments_lexer": "ipython3",
   "version": "3.10.9"
  }
 },
 "nbformat": 4,
 "nbformat_minor": 4
}
